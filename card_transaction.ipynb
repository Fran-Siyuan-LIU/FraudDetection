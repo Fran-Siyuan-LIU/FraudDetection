{
 "cells": [
  {
   "cell_type": "markdown",
   "metadata": {},
   "source": [
    "# **Credit Card Fraud**\n",
    "\n",
    "This notebook examines classifier solutions for the Credit Card Fraud Dataset, available here:  \n",
    "https://www.kaggle.com/datasets/dhanushnarayananr/credit-card-fraud"
   ]
  },
  {
   "cell_type": "markdown",
   "metadata": {},
   "source": [
    "# Business Problems  \n",
    "\n",
    "The banking industry faces a significant challenge in preventing credit card fraud. According to the Data Breach Index, more than 5 million records are being stolen on a daily basis, a concerning statistic that shows - fraud is still very common both for Card-Present and Card-not Present type of payments. Fraudulent credit card transactions can lead to financial losses, harm to the bank's reputation, and even legal complications. Therefore, detecting and preventing credit card fraud is a critical issue for banks.\n",
    "\n",
    "Credit card fraud comes in various forms, such as identity theft, account takeover, and counterfeit cards. Fraudsters continually refine their tactics and become more sophisticated, making it difficult for banks to stay ahead of the curve. Traditional methods of detecting fraud, such as manual review, are often unreliable and time-consuming.\n",
    "\n",
    "Fortunately, we are seeking to add a fraud classifier for credit card companies to serve as an aid to quickly indentify frauds. High speed fraud detection is crucial here as it would be hard to trace back the amount after the transaction.  \n",
    "\n",
    "False negatives are fraud cases we identify as normal transactions, which will lead to a loss for the company or the customer. False positives are normal transaction cases we identify as a fraud, which would cause transactions being denied and might create dissatisfaction from customers.\n",
    "\n",
    "# Metrics\n",
    "\n",
    "We will primarily consider accuracy, which assesses the overall percentage of error, and recall assesses the rate at which instances that are truly positive (fraud) are correctly classified. While we want a high accuracy, we would also want a possibly small loss due to mis-recognition on fraud and less disturbe to customers' non-fraud transaction. Therefore, we choose f1 score as a complementary metric. "
   ]
  },
  {
   "cell_type": "markdown",
   "metadata": {},
   "source": [
    "# Data\n",
    "\n",
    "This notebook examines classifier solutions for the Credit Card Fraud Dataset, available here:  \n",
    "https://www.kaggle.com/datasets/dhanushnarayananr/credit-card-fraud\n",
    "\n",
    "Feature Explanation:\n",
    "\n",
    "distance_from_home - the distance from home where the transaction happened.\n",
    "\n",
    "distance_from_last_transaction - the distance from last transaction happened.\n",
    "\n",
    "ratio_to_median_purchase_price - Ratio of purchased price transaction to median purchase price.\n",
    "\n",
    "repeat_retailer - Is the transaction happened from same retailer.\n",
    "\n",
    "used_chip - Is the transaction through chip (credit card).\n",
    "\n",
    "used_pin_number - Is the transaction happened by using PIN number.\n",
    "\n",
    "online_order - Is the transaction an online order.\n",
    "\n",
    "fraud - Is the transaction fraudulent.\n"
   ]
  },
  {
   "cell_type": "markdown",
   "metadata": {},
   "source": [
    "# import data"
   ]
  },
  {
   "cell_type": "code",
   "execution_count": 155,
   "metadata": {},
   "outputs": [],
   "source": [
    "import pandas as pd"
   ]
  },
  {
   "cell_type": "code",
   "execution_count": 156,
   "metadata": {},
   "outputs": [],
   "source": [
    "#filename = \"drive/My Drive/Colab Notebooks/card_transdata.csv\"\n",
    "filename = \"card_transdata.csv\"\n",
    "df_original = pd.read_csv(filename)"
   ]
  },
  {
   "cell_type": "code",
   "execution_count": 157,
   "metadata": {},
   "outputs": [
    {
     "data": {
      "text/plain": [
       "(1000000, 8)"
      ]
     },
     "execution_count": 157,
     "metadata": {},
     "output_type": "execute_result"
    }
   ],
   "source": [
    "df_original.shape"
   ]
  },
  {
   "cell_type": "markdown",
   "metadata": {},
   "source": [
    "# data preprocessing\n",
    "\n",
    "### take examples and detection"
   ]
  },
  {
   "cell_type": "code",
   "execution_count": 158,
   "metadata": {},
   "outputs": [
    {
     "name": "stdout",
     "output_type": "stream",
     "text": [
      "<class 'pandas.core.frame.DataFrame'>\n",
      "RangeIndex: 1000000 entries, 0 to 999999\n",
      "Data columns (total 8 columns):\n",
      " #   Column                          Non-Null Count    Dtype  \n",
      "---  ------                          --------------    -----  \n",
      " 0   distance_from_home              1000000 non-null  float64\n",
      " 1   distance_from_last_transaction  1000000 non-null  float64\n",
      " 2   ratio_to_median_purchase_price  1000000 non-null  float64\n",
      " 3   repeat_retailer                 1000000 non-null  float64\n",
      " 4   used_chip                       1000000 non-null  float64\n",
      " 5   used_pin_number                 1000000 non-null  float64\n",
      " 6   online_order                    1000000 non-null  float64\n",
      " 7   fraud                           1000000 non-null  float64\n",
      "dtypes: float64(8)\n",
      "memory usage: 61.0 MB\n"
     ]
    }
   ],
   "source": [
    "df_original.info()"
   ]
  },
  {
   "cell_type": "code",
   "execution_count": 159,
   "metadata": {},
   "outputs": [
    {
     "data": {
      "text/plain": [
       "0.087403"
      ]
     },
     "execution_count": 159,
     "metadata": {},
     "output_type": "execute_result"
    }
   ],
   "source": [
    "df_original[\"fraud\"].mean()"
   ]
  },
  {
   "cell_type": "code",
   "execution_count": 160,
   "metadata": {},
   "outputs": [],
   "source": [
    "# take 5000 examples\n",
    "# as we can see, the original data is imbalanced\n",
    "# using a small sample and SMOTE it is wasting the original large sample\n",
    "# so I balance it manually\n",
    "\n",
    "df1 = df_original[df_original['fraud'] == 0].sample(n=2500)\n",
    "df2 = df_original[df_original['fraud'] == 1].sample(n=2500)\n",
    "df = pd.concat([df1, df2])\n",
    "df = df.reset_index()\n",
    "df = df.drop('index', axis=1)"
   ]
  },
  {
   "cell_type": "code",
   "execution_count": 161,
   "metadata": {},
   "outputs": [
    {
     "name": "stdout",
     "output_type": "stream",
     "text": [
      "<class 'pandas.core.frame.DataFrame'>\n",
      "RangeIndex: 5000 entries, 0 to 4999\n",
      "Data columns (total 8 columns):\n",
      " #   Column                          Non-Null Count  Dtype  \n",
      "---  ------                          --------------  -----  \n",
      " 0   distance_from_home              5000 non-null   float64\n",
      " 1   distance_from_last_transaction  5000 non-null   float64\n",
      " 2   ratio_to_median_purchase_price  5000 non-null   float64\n",
      " 3   repeat_retailer                 5000 non-null   float64\n",
      " 4   used_chip                       5000 non-null   float64\n",
      " 5   used_pin_number                 5000 non-null   float64\n",
      " 6   online_order                    5000 non-null   float64\n",
      " 7   fraud                           5000 non-null   float64\n",
      "dtypes: float64(8)\n",
      "memory usage: 312.6 KB\n"
     ]
    }
   ],
   "source": [
    "# check data types\n",
    "df.info()"
   ]
  },
  {
   "cell_type": "code",
   "execution_count": 162,
   "metadata": {},
   "outputs": [
    {
     "data": {
      "text/plain": [
       "0.5"
      ]
     },
     "execution_count": 162,
     "metadata": {},
     "output_type": "execute_result"
    }
   ],
   "source": [
    "df['fraud'].mean()"
   ]
  },
  {
   "cell_type": "code",
   "execution_count": 163,
   "metadata": {},
   "outputs": [
    {
     "data": {
      "text/plain": [
       "distance_from_home                0\n",
       "distance_from_last_transaction    0\n",
       "ratio_to_median_purchase_price    0\n",
       "repeat_retailer                   0\n",
       "used_chip                         0\n",
       "used_pin_number                   0\n",
       "online_order                      0\n",
       "fraud                             0\n",
       "dtype: int64"
      ]
     },
     "execution_count": 163,
     "metadata": {},
     "output_type": "execute_result"
    }
   ],
   "source": [
    "# missing values / no missing values\n",
    "df.isna().sum()"
   ]
  },
  {
   "cell_type": "code",
   "execution_count": 164,
   "metadata": {},
   "outputs": [
    {
     "data": {
      "text/plain": [
       "0"
      ]
     },
     "execution_count": 164,
     "metadata": {},
     "output_type": "execute_result"
    }
   ],
   "source": [
    "# duplicates / no dups\n",
    "df.duplicated().sum()"
   ]
  },
  {
   "cell_type": "code",
   "execution_count": 165,
   "metadata": {},
   "outputs": [],
   "source": [
    "# Feature Types\n",
    "quant_features = ['distance_from_home', 'distance_from_last_transaction',\n",
    "       'ratio_to_median_purchase_price']\n",
    "categorical_features = ['repeat_retailer', 'used_chip',\n",
    "       'used_pin_number', 'online_order']\n",
    "target = ['fraud']"
   ]
  },
  {
   "cell_type": "code",
   "execution_count": 166,
   "metadata": {},
   "outputs": [
    {
     "data": {
      "text/html": [
       "<div>\n",
       "<style scoped>\n",
       "    .dataframe tbody tr th:only-of-type {\n",
       "        vertical-align: middle;\n",
       "    }\n",
       "\n",
       "    .dataframe tbody tr th {\n",
       "        vertical-align: top;\n",
       "    }\n",
       "\n",
       "    .dataframe thead th {\n",
       "        text-align: right;\n",
       "    }\n",
       "</style>\n",
       "<table border=\"1\" class=\"dataframe\">\n",
       "  <thead>\n",
       "    <tr style=\"text-align: right;\">\n",
       "      <th></th>\n",
       "      <th>count</th>\n",
       "      <th>mean</th>\n",
       "      <th>std</th>\n",
       "      <th>min</th>\n",
       "      <th>25%</th>\n",
       "      <th>50%</th>\n",
       "      <th>75%</th>\n",
       "      <th>max</th>\n",
       "    </tr>\n",
       "  </thead>\n",
       "  <tbody>\n",
       "    <tr>\n",
       "      <th>distance_from_home</th>\n",
       "      <td>5000.0</td>\n",
       "      <td>45.991195</td>\n",
       "      <td>104.382362</td>\n",
       "      <td>0.077836</td>\n",
       "      <td>4.428386</td>\n",
       "      <td>12.325994</td>\n",
       "      <td>37.838120</td>\n",
       "      <td>2218.212758</td>\n",
       "    </tr>\n",
       "    <tr>\n",
       "      <th>distance_from_last_transaction</th>\n",
       "      <td>5000.0</td>\n",
       "      <td>9.804239</td>\n",
       "      <td>58.093590</td>\n",
       "      <td>0.003039</td>\n",
       "      <td>0.329236</td>\n",
       "      <td>1.077493</td>\n",
       "      <td>3.759500</td>\n",
       "      <td>2938.197853</td>\n",
       "    </tr>\n",
       "    <tr>\n",
       "      <th>ratio_to_median_purchase_price</th>\n",
       "      <td>5000.0</td>\n",
       "      <td>3.756821</td>\n",
       "      <td>5.108633</td>\n",
       "      <td>0.021329</td>\n",
       "      <td>0.675186</td>\n",
       "      <td>1.913397</td>\n",
       "      <td>5.238212</td>\n",
       "      <td>146.213898</td>\n",
       "    </tr>\n",
       "  </tbody>\n",
       "</table>\n",
       "</div>"
      ],
      "text/plain": [
       "                                 count       mean         std       min  \\\n",
       "distance_from_home              5000.0  45.991195  104.382362  0.077836   \n",
       "distance_from_last_transaction  5000.0   9.804239   58.093590  0.003039   \n",
       "ratio_to_median_purchase_price  5000.0   3.756821    5.108633  0.021329   \n",
       "\n",
       "                                     25%        50%        75%          max  \n",
       "distance_from_home              4.428386  12.325994  37.838120  2218.212758  \n",
       "distance_from_last_transaction  0.329236   1.077493   3.759500  2938.197853  \n",
       "ratio_to_median_purchase_price  0.675186   1.913397   5.238212   146.213898  "
      ]
     },
     "execution_count": 166,
     "metadata": {},
     "output_type": "execute_result"
    }
   ],
   "source": [
    "# quant feature summary\n",
    "df[quant_features].describe().T"
   ]
  },
  {
   "cell_type": "code",
   "execution_count": 167,
   "metadata": {},
   "outputs": [],
   "source": [
    "import matplotlib.pyplot as plt\n",
    "import seaborn as sns"
   ]
  },
  {
   "cell_type": "code",
   "execution_count": 168,
   "metadata": {},
   "outputs": [
    {
     "data": {
      "image/png": "[encoded data removed]",
      "text/plain": [
       "<Figure size 2000x500 with 1 Axes>"
      ]
     },
     "metadata": {},
     "output_type": "display_data"
    },
    {
     "data": {
      "image/png": "[encoded data removed]",
      "text/plain": [
       "<Figure size 2000x500 with 1 Axes>"
      ]
     },
     "metadata": {},
     "output_type": "display_data"
    },
    {
     "data": {
      "image/png": "[encoded data removed]",
      "text/plain": [
       "<Figure size 2000x500 with 1 Axes>"
      ]
     },
     "metadata": {},
     "output_type": "display_data"
    }
   ],
   "source": [
    "# see the quant features' distribution\n",
    "# it's clear that skewness exist in quant features\n",
    "# but we'll not correct it \n",
    "# because the skewness is more like a useful pattern rather than a sample error\n",
    " \n",
    "for qf in quant_features:\n",
    "    plt.figure(figsize = (20,5))\n",
    "    sns.histplot(x = qf, hue = \"fraud\", data = df)\n",
    "    plt.show()"
   ]
  },
  {
   "cell_type": "code",
   "execution_count": 207,
   "metadata": {},
   "outputs": [
    {
     "data": {
      "text/html": [
       "<div>\n",
       "<style scoped>\n",
       "    .dataframe tbody tr th:only-of-type {\n",
       "        vertical-align: middle;\n",
       "    }\n",
       "\n",
       "    .dataframe tbody tr th {\n",
       "        vertical-align: top;\n",
       "    }\n",
       "\n",
       "    .dataframe thead th {\n",
       "        text-align: right;\n",
       "    }\n",
       "</style>\n",
       "<table border=\"1\" class=\"dataframe\">\n",
       "  <thead>\n",
       "    <tr style=\"text-align: right;\">\n",
       "      <th></th>\n",
       "      <th>distance_from_home</th>\n",
       "      <th>distance_from_last_transaction</th>\n",
       "      <th>ratio_to_median_purchase_price</th>\n",
       "    </tr>\n",
       "  </thead>\n",
       "  <tbody>\n",
       "    <tr>\n",
       "      <th>0</th>\n",
       "      <td>1.087386</td>\n",
       "      <td>-0.005241</td>\n",
       "      <td>0.082284</td>\n",
       "    </tr>\n",
       "    <tr>\n",
       "      <th>1</th>\n",
       "      <td>1.772723</td>\n",
       "      <td>-0.501606</td>\n",
       "      <td>0.611080</td>\n",
       "    </tr>\n",
       "    <tr>\n",
       "      <th>2</th>\n",
       "      <td>3.137471</td>\n",
       "      <td>2.563678</td>\n",
       "      <td>-3.096814</td>\n",
       "    </tr>\n",
       "    <tr>\n",
       "      <th>3</th>\n",
       "      <td>0.779804</td>\n",
       "      <td>-0.311009</td>\n",
       "      <td>0.686656</td>\n",
       "    </tr>\n",
       "    <tr>\n",
       "      <th>4</th>\n",
       "      <td>4.734619</td>\n",
       "      <td>-0.785303</td>\n",
       "      <td>0.314613</td>\n",
       "    </tr>\n",
       "  </tbody>\n",
       "</table>\n",
       "</div>"
      ],
      "text/plain": [
       "   distance_from_home  distance_from_last_transaction  \\\n",
       "0            1.087386                       -0.005241   \n",
       "1            1.772723                       -0.501606   \n",
       "2            3.137471                        2.563678   \n",
       "3            0.779804                       -0.311009   \n",
       "4            4.734619                       -0.785303   \n",
       "\n",
       "   ratio_to_median_purchase_price  \n",
       "0                        0.082284  \n",
       "1                        0.611080  \n",
       "2                       -3.096814  \n",
       "3                        0.686656  \n",
       "4                        0.314613  "
      ]
     },
     "execution_count": 207,
     "metadata": {},
     "output_type": "execute_result"
    }
   ],
   "source": [
    "# but, still, it will help if we calculate the log of the both distances\n",
    "# the ratio should also be logged, although it's a ratio itself\n",
    "# the larger the data scale, the smaller the influence of 1\n",
    "\n",
    "for qf in quant_features:\n",
    "    df[qf] = np.log(df[qf])\n",
    "\n",
    "df[quant_features].head()\n",
    "\n"
   ]
  },
  {
   "cell_type": "code",
   "execution_count": 218,
   "metadata": {},
   "outputs": [
    {
     "data": {
      "image/png": "[encoded data removed]",
      "text/plain": [
       "<Figure size 2000x500 with 1 Axes>"
      ]
     },
     "metadata": {},
     "output_type": "display_data"
    },
    {
     "data": {
      "image/png": "[encoded data removed]",
      "text/plain": [
       "<Figure size 2000x500 with 1 Axes>"
      ]
     },
     "metadata": {},
     "output_type": "display_data"
    },
    {
     "data": {
      "image/png": "[encoded data removed]",
      "text/plain": [
       "<Figure size 2000x500 with 1 Axes>"
      ]
     },
     "metadata": {},
     "output_type": "display_data"
    }
   ],
   "source": [
    "for qf in quant_features:\n",
    "    plt.figure(figsize = (20,5))\n",
    "    sns.histplot(x = qf, hue = \"fraud\", data = df)\n",
    "    plt.show()"
   ]
  },
  {
   "cell_type": "markdown",
   "metadata": {},
   "source": [
    "# Samples and Features\n",
    "### Feature Selection for c-features"
   ]
  },
  {
   "cell_type": "code",
   "execution_count": 208,
   "metadata": {},
   "outputs": [],
   "source": [
    "# to avoid model's exposure to test data, we choose to split it before other preprocessing\n",
    "cols = list(df.columns)\n",
    "X = df[cols[: -1]]\n",
    "y = df[target]\n",
    "\n",
    "from sklearn.model_selection import train_test_split\n",
    "\n",
    "X_train, X_test, y_train, y_test = train_test_split(\n",
    "                                                    X, y, \n",
    "                                                    test_size=0.2,    # 80-20 training vs test set split\n",
    "                                                    random_state=0, \n",
    "                                                    stratify=y)"
   ]
  },
  {
   "cell_type": "code",
   "execution_count": 209,
   "metadata": {},
   "outputs": [
    {
     "data": {
      "text/plain": [
       "Text(0.5, 1.0, 'Feature importance for classification dataset')"
      ]
     },
     "execution_count": 209,
     "metadata": {},
     "output_type": "execute_result"
    },
    {
     "data": {
      "image/png": "[encoded data removed]",
      "text/plain": [
       "<Figure size 1000x600 with 1 Axes>"
      ]
     },
     "metadata": {},
     "output_type": "display_data"
    }
   ],
   "source": [
    "from sklearn.ensemble import RandomForestClassifier\n",
    "import numpy as np\n",
    "# Feature Importance\n",
    "\n",
    "# Initialize the Random Forest Classifier\n",
    "rfc = RandomForestClassifier()\n",
    "\n",
    "# Train the model on your dataset\n",
    "rfc.fit(X_train[categorical_features], y_train)\n",
    "\n",
    "# Extract feature importances from the model\n",
    "importances = rfc.feature_importances_\n",
    "\n",
    "# Sort the feature importances in descending order\n",
    "indices = np.argsort(importances)[::-1]\n",
    "\n",
    "# Create a bar chart of feature importances\n",
    "plt.figure(figsize=(10, 6))\n",
    "plt.barh(range(X_train[categorical_features].shape[1]), importances[indices], align='center')\n",
    "plt.yticks(range(X_train[categorical_features].shape[1]), X_train[categorical_features].columns[indices])\n",
    "plt.xlabel(\"Feature importance\")\n",
    "plt.ylabel(\"Feature\")\n",
    "plt.title(\"Feature importance for classification dataset\")"
   ]
  },
  {
   "cell_type": "code",
   "execution_count": 210,
   "metadata": {},
   "outputs": [],
   "source": [
    "# from the barchart above, we see clearly that the most import feature is online_order\n",
    "# but two of them are not so important\n",
    "# so we discard them\n",
    "\n",
    "categorical_features_chosen = ['used_pin_number', 'online_order']"
   ]
  },
  {
   "cell_type": "markdown",
   "metadata": {},
   "source": [
    "### Scaling and Feature Extraction for q-features"
   ]
  },
  {
   "cell_type": "code",
   "execution_count": 211,
   "metadata": {},
   "outputs": [],
   "source": [
    "# for q-features, we want to denoise the data while preserve as much info as possible\n",
    "# so we don't select the features directly but choose PCA"
   ]
  },
  {
   "cell_type": "code",
   "execution_count": 219,
   "metadata": {},
   "outputs": [],
   "source": [
    "X_train_q = X_train[quant_features]\n",
    "X_test_q = X_test[quant_features]"
   ]
  },
  {
   "cell_type": "code",
   "execution_count": 220,
   "metadata": {},
   "outputs": [],
   "source": [
    "from sklearn.preprocessing import StandardScaler\n",
    "\n",
    "stdsc = StandardScaler()  \n",
    "X_train_q_std = stdsc.fit_transform(X_train_q)\n",
    "X_test_q_std = stdsc.transform(X_test_q)"
   ]
  },
  {
   "cell_type": "code",
   "execution_count": 221,
   "metadata": {},
   "outputs": [
    {
     "data": {
      "text/plain": [
       "array([0.36813464, 0.33746186, 0.2944035 ])"
      ]
     },
     "execution_count": 221,
     "metadata": {},
     "output_type": "execute_result"
    }
   ],
   "source": [
    "# three features are (nearly) equally important, no selection needed\n",
    "from sklearn.decomposition import PCA\n",
    "\n",
    "pca = PCA()\n",
    "X_train_q_pca = pca.fit_transform(X_train_q_std)\n",
    "X_test_q_pca = pca.transform(X_test_q_std)\n",
    "\n",
    "pca.explained_variance_ratio_"
   ]
  },
  {
   "cell_type": "markdown",
   "metadata": {},
   "source": [
    "# Synthesize X"
   ]
  },
  {
   "cell_type": "code",
   "execution_count": 222,
   "metadata": {},
   "outputs": [],
   "source": [
    "X_train_q_pca = pd.DataFrame(X_train_q_pca)\n",
    "X_test_q_pca = pd.DataFrame(X_test_q_pca)"
   ]
  },
  {
   "cell_type": "code",
   "execution_count": 223,
   "metadata": {},
   "outputs": [
    {
     "data": {
      "text/html": [
       "<div>\n",
       "<style scoped>\n",
       "    .dataframe tbody tr th:only-of-type {\n",
       "        vertical-align: middle;\n",
       "    }\n",
       "\n",
       "    .dataframe tbody tr th {\n",
       "        vertical-align: top;\n",
       "    }\n",
       "\n",
       "    .dataframe thead th {\n",
       "        text-align: right;\n",
       "    }\n",
       "</style>\n",
       "<table border=\"1\" class=\"dataframe\">\n",
       "  <thead>\n",
       "    <tr style=\"text-align: right;\">\n",
       "      <th></th>\n",
       "      <th>distance_from_home</th>\n",
       "      <th>distance_from_last_transaction</th>\n",
       "      <th>ratio_to_median_purchase_price</th>\n",
       "      <th>repeat_retailer</th>\n",
       "      <th>used_chip</th>\n",
       "      <th>used_pin_number</th>\n",
       "      <th>online_order</th>\n",
       "    </tr>\n",
       "  </thead>\n",
       "  <tbody>\n",
       "    <tr>\n",
       "      <th>0</th>\n",
       "      <td>1.589246</td>\n",
       "      <td>-2.752385</td>\n",
       "      <td>-0.062871</td>\n",
       "      <td>1.0</td>\n",
       "      <td>0.0</td>\n",
       "      <td>0.0</td>\n",
       "      <td>1.0</td>\n",
       "    </tr>\n",
       "    <tr>\n",
       "      <th>1</th>\n",
       "      <td>2.162973</td>\n",
       "      <td>-1.227291</td>\n",
       "      <td>0.544414</td>\n",
       "      <td>1.0</td>\n",
       "      <td>1.0</td>\n",
       "      <td>0.0</td>\n",
       "      <td>0.0</td>\n",
       "    </tr>\n",
       "    <tr>\n",
       "      <th>2</th>\n",
       "      <td>3.259046</td>\n",
       "      <td>2.721825</td>\n",
       "      <td>-0.962183</td>\n",
       "      <td>1.0</td>\n",
       "      <td>0.0</td>\n",
       "      <td>0.0</td>\n",
       "      <td>1.0</td>\n",
       "    </tr>\n",
       "    <tr>\n",
       "      <th>3</th>\n",
       "      <td>2.337428</td>\n",
       "      <td>0.977762</td>\n",
       "      <td>1.745024</td>\n",
       "      <td>1.0</td>\n",
       "      <td>0.0</td>\n",
       "      <td>0.0</td>\n",
       "      <td>0.0</td>\n",
       "    </tr>\n",
       "    <tr>\n",
       "      <th>4</th>\n",
       "      <td>0.310240</td>\n",
       "      <td>-0.826092</td>\n",
       "      <td>1.441775</td>\n",
       "      <td>0.0</td>\n",
       "      <td>0.0</td>\n",
       "      <td>0.0</td>\n",
       "      <td>0.0</td>\n",
       "    </tr>\n",
       "    <tr>\n",
       "      <th>...</th>\n",
       "      <td>...</td>\n",
       "      <td>...</td>\n",
       "      <td>...</td>\n",
       "      <td>...</td>\n",
       "      <td>...</td>\n",
       "      <td>...</td>\n",
       "      <td>...</td>\n",
       "    </tr>\n",
       "    <tr>\n",
       "      <th>3995</th>\n",
       "      <td>1.006269</td>\n",
       "      <td>1.691427</td>\n",
       "      <td>1.394834</td>\n",
       "      <td>1.0</td>\n",
       "      <td>1.0</td>\n",
       "      <td>0.0</td>\n",
       "      <td>1.0</td>\n",
       "    </tr>\n",
       "    <tr>\n",
       "      <th>3996</th>\n",
       "      <td>2.407558</td>\n",
       "      <td>1.350639</td>\n",
       "      <td>0.147552</td>\n",
       "      <td>1.0</td>\n",
       "      <td>0.0</td>\n",
       "      <td>0.0</td>\n",
       "      <td>0.0</td>\n",
       "    </tr>\n",
       "    <tr>\n",
       "      <th>3997</th>\n",
       "      <td>3.802332</td>\n",
       "      <td>-0.645117</td>\n",
       "      <td>-0.264844</td>\n",
       "      <td>1.0</td>\n",
       "      <td>0.0</td>\n",
       "      <td>0.0</td>\n",
       "      <td>0.0</td>\n",
       "    </tr>\n",
       "    <tr>\n",
       "      <th>3998</th>\n",
       "      <td>1.967826</td>\n",
       "      <td>1.348321</td>\n",
       "      <td>1.486798</td>\n",
       "      <td>1.0</td>\n",
       "      <td>0.0</td>\n",
       "      <td>0.0</td>\n",
       "      <td>1.0</td>\n",
       "    </tr>\n",
       "    <tr>\n",
       "      <th>3999</th>\n",
       "      <td>3.742879</td>\n",
       "      <td>-0.931476</td>\n",
       "      <td>1.612144</td>\n",
       "      <td>1.0</td>\n",
       "      <td>1.0</td>\n",
       "      <td>1.0</td>\n",
       "      <td>0.0</td>\n",
       "    </tr>\n",
       "  </tbody>\n",
       "</table>\n",
       "<p>4000 rows × 7 columns</p>\n",
       "</div>"
      ],
      "text/plain": [
       "      distance_from_home  distance_from_last_transaction  \\\n",
       "0               1.589246                       -2.752385   \n",
       "1               2.162973                       -1.227291   \n",
       "2               3.259046                        2.721825   \n",
       "3               2.337428                        0.977762   \n",
       "4               0.310240                       -0.826092   \n",
       "...                  ...                             ...   \n",
       "3995            1.006269                        1.691427   \n",
       "3996            2.407558                        1.350639   \n",
       "3997            3.802332                       -0.645117   \n",
       "3998            1.967826                        1.348321   \n",
       "3999            3.742879                       -0.931476   \n",
       "\n",
       "      ratio_to_median_purchase_price  repeat_retailer  used_chip  \\\n",
       "0                          -0.062871              1.0        0.0   \n",
       "1                           0.544414              1.0        1.0   \n",
       "2                          -0.962183              1.0        0.0   \n",
       "3                           1.745024              1.0        0.0   \n",
       "4                           1.441775              0.0        0.0   \n",
       "...                              ...              ...        ...   \n",
       "3995                        1.394834              1.0        1.0   \n",
       "3996                        0.147552              1.0        0.0   \n",
       "3997                       -0.264844              1.0        0.0   \n",
       "3998                        1.486798              1.0        0.0   \n",
       "3999                        1.612144              1.0        1.0   \n",
       "\n",
       "      used_pin_number  online_order  \n",
       "0                 0.0           1.0  \n",
       "1                 0.0           0.0  \n",
       "2                 0.0           1.0  \n",
       "3                 0.0           0.0  \n",
       "4                 0.0           0.0  \n",
       "...               ...           ...  \n",
       "3995              0.0           1.0  \n",
       "3996              0.0           0.0  \n",
       "3997              0.0           0.0  \n",
       "3998              0.0           1.0  \n",
       "3999              1.0           0.0  \n",
       "\n",
       "[4000 rows x 7 columns]"
      ]
     },
     "execution_count": 223,
     "metadata": {},
     "output_type": "execute_result"
    }
   ],
   "source": [
    "X_train = X_train.reset_index()\n",
    "X_train = X_train.drop(\"index\", axis = 1)\n",
    "X_train"
   ]
  },
  {
   "cell_type": "code",
   "execution_count": 224,
   "metadata": {},
   "outputs": [
    {
     "data": {
      "text/html": [
       "<div>\n",
       "<style scoped>\n",
       "    .dataframe tbody tr th:only-of-type {\n",
       "        vertical-align: middle;\n",
       "    }\n",
       "\n",
       "    .dataframe tbody tr th {\n",
       "        vertical-align: top;\n",
       "    }\n",
       "\n",
       "    .dataframe thead th {\n",
       "        text-align: right;\n",
       "    }\n",
       "</style>\n",
       "<table border=\"1\" class=\"dataframe\">\n",
       "  <thead>\n",
       "    <tr style=\"text-align: right;\">\n",
       "      <th></th>\n",
       "      <th>distance_from_home</th>\n",
       "      <th>distance_from_last_transaction</th>\n",
       "      <th>ratio_to_median_purchase_price</th>\n",
       "      <th>repeat_retailer</th>\n",
       "      <th>used_chip</th>\n",
       "      <th>used_pin_number</th>\n",
       "      <th>online_order</th>\n",
       "    </tr>\n",
       "  </thead>\n",
       "  <tbody>\n",
       "    <tr>\n",
       "      <th>0</th>\n",
       "      <td>2.478141</td>\n",
       "      <td>1.031150</td>\n",
       "      <td>3.255472</td>\n",
       "      <td>1.0</td>\n",
       "      <td>0.0</td>\n",
       "      <td>0.0</td>\n",
       "      <td>1.0</td>\n",
       "    </tr>\n",
       "    <tr>\n",
       "      <th>1</th>\n",
       "      <td>3.566180</td>\n",
       "      <td>1.022992</td>\n",
       "      <td>1.689327</td>\n",
       "      <td>1.0</td>\n",
       "      <td>1.0</td>\n",
       "      <td>0.0</td>\n",
       "      <td>1.0</td>\n",
       "    </tr>\n",
       "    <tr>\n",
       "      <th>2</th>\n",
       "      <td>2.532104</td>\n",
       "      <td>2.680321</td>\n",
       "      <td>-0.057069</td>\n",
       "      <td>1.0</td>\n",
       "      <td>0.0</td>\n",
       "      <td>0.0</td>\n",
       "      <td>0.0</td>\n",
       "    </tr>\n",
       "    <tr>\n",
       "      <th>3</th>\n",
       "      <td>3.440913</td>\n",
       "      <td>3.681632</td>\n",
       "      <td>0.144140</td>\n",
       "      <td>1.0</td>\n",
       "      <td>0.0</td>\n",
       "      <td>0.0</td>\n",
       "      <td>0.0</td>\n",
       "    </tr>\n",
       "    <tr>\n",
       "      <th>4</th>\n",
       "      <td>2.497736</td>\n",
       "      <td>0.336553</td>\n",
       "      <td>-0.658626</td>\n",
       "      <td>1.0</td>\n",
       "      <td>0.0</td>\n",
       "      <td>0.0</td>\n",
       "      <td>1.0</td>\n",
       "    </tr>\n",
       "    <tr>\n",
       "      <th>...</th>\n",
       "      <td>...</td>\n",
       "      <td>...</td>\n",
       "      <td>...</td>\n",
       "      <td>...</td>\n",
       "      <td>...</td>\n",
       "      <td>...</td>\n",
       "      <td>...</td>\n",
       "    </tr>\n",
       "    <tr>\n",
       "      <th>995</th>\n",
       "      <td>1.188168</td>\n",
       "      <td>-1.866302</td>\n",
       "      <td>1.429372</td>\n",
       "      <td>1.0</td>\n",
       "      <td>0.0</td>\n",
       "      <td>0.0</td>\n",
       "      <td>1.0</td>\n",
       "    </tr>\n",
       "    <tr>\n",
       "      <th>996</th>\n",
       "      <td>3.436663</td>\n",
       "      <td>-1.673372</td>\n",
       "      <td>2.799717</td>\n",
       "      <td>1.0</td>\n",
       "      <td>0.0</td>\n",
       "      <td>0.0</td>\n",
       "      <td>1.0</td>\n",
       "    </tr>\n",
       "    <tr>\n",
       "      <th>997</th>\n",
       "      <td>2.265037</td>\n",
       "      <td>0.522863</td>\n",
       "      <td>-0.981755</td>\n",
       "      <td>1.0</td>\n",
       "      <td>1.0</td>\n",
       "      <td>0.0</td>\n",
       "      <td>0.0</td>\n",
       "    </tr>\n",
       "    <tr>\n",
       "      <th>998</th>\n",
       "      <td>3.028792</td>\n",
       "      <td>-0.246170</td>\n",
       "      <td>0.537515</td>\n",
       "      <td>1.0</td>\n",
       "      <td>1.0</td>\n",
       "      <td>0.0</td>\n",
       "      <td>0.0</td>\n",
       "    </tr>\n",
       "    <tr>\n",
       "      <th>999</th>\n",
       "      <td>4.488342</td>\n",
       "      <td>0.396115</td>\n",
       "      <td>-1.523247</td>\n",
       "      <td>1.0</td>\n",
       "      <td>1.0</td>\n",
       "      <td>0.0</td>\n",
       "      <td>0.0</td>\n",
       "    </tr>\n",
       "  </tbody>\n",
       "</table>\n",
       "<p>1000 rows × 7 columns</p>\n",
       "</div>"
      ],
      "text/plain": [
       "     distance_from_home  distance_from_last_transaction  \\\n",
       "0              2.478141                        1.031150   \n",
       "1              3.566180                        1.022992   \n",
       "2              2.532104                        2.680321   \n",
       "3              3.440913                        3.681632   \n",
       "4              2.497736                        0.336553   \n",
       "..                  ...                             ...   \n",
       "995            1.188168                       -1.866302   \n",
       "996            3.436663                       -1.673372   \n",
       "997            2.265037                        0.522863   \n",
       "998            3.028792                       -0.246170   \n",
       "999            4.488342                        0.396115   \n",
       "\n",
       "     ratio_to_median_purchase_price  repeat_retailer  used_chip  \\\n",
       "0                          3.255472              1.0        0.0   \n",
       "1                          1.689327              1.0        1.0   \n",
       "2                         -0.057069              1.0        0.0   \n",
       "3                          0.144140              1.0        0.0   \n",
       "4                         -0.658626              1.0        0.0   \n",
       "..                              ...              ...        ...   \n",
       "995                        1.429372              1.0        0.0   \n",
       "996                        2.799717              1.0        0.0   \n",
       "997                       -0.981755              1.0        1.0   \n",
       "998                        0.537515              1.0        1.0   \n",
       "999                       -1.523247              1.0        1.0   \n",
       "\n",
       "     used_pin_number  online_order  \n",
       "0                0.0           1.0  \n",
       "1                0.0           1.0  \n",
       "2                0.0           0.0  \n",
       "3                0.0           0.0  \n",
       "4                0.0           1.0  \n",
       "..               ...           ...  \n",
       "995              0.0           1.0  \n",
       "996              0.0           1.0  \n",
       "997              0.0           0.0  \n",
       "998              0.0           0.0  \n",
       "999              0.0           0.0  \n",
       "\n",
       "[1000 rows x 7 columns]"
      ]
     },
     "execution_count": 224,
     "metadata": {},
     "output_type": "execute_result"
    }
   ],
   "source": [
    "X_test = X_test.reset_index()\n",
    "X_test = X_test.drop(\"index\", axis = 1)\n",
    "X_test"
   ]
  },
  {
   "cell_type": "code",
   "execution_count": 226,
   "metadata": {},
   "outputs": [
    {
     "data": {
      "text/html": [
       "<div>\n",
       "<style scoped>\n",
       "    .dataframe tbody tr th:only-of-type {\n",
       "        vertical-align: middle;\n",
       "    }\n",
       "\n",
       "    .dataframe tbody tr th {\n",
       "        vertical-align: top;\n",
       "    }\n",
       "\n",
       "    .dataframe thead th {\n",
       "        text-align: right;\n",
       "    }\n",
       "</style>\n",
       "<table border=\"1\" class=\"dataframe\">\n",
       "  <thead>\n",
       "    <tr style=\"text-align: right;\">\n",
       "      <th></th>\n",
       "      <th>0</th>\n",
       "      <th>1</th>\n",
       "      <th>2</th>\n",
       "      <th>used_pin_number</th>\n",
       "      <th>online_order</th>\n",
       "    </tr>\n",
       "  </thead>\n",
       "  <tbody>\n",
       "    <tr>\n",
       "      <th>0</th>\n",
       "      <td>0.067700</td>\n",
       "      <td>-1.183245</td>\n",
       "      <td>1.258607</td>\n",
       "      <td>0.0</td>\n",
       "      <td>1.0</td>\n",
       "    </tr>\n",
       "    <tr>\n",
       "      <th>1</th>\n",
       "      <td>-0.077564</td>\n",
       "      <td>-0.630054</td>\n",
       "      <td>0.450340</td>\n",
       "      <td>0.0</td>\n",
       "      <td>0.0</td>\n",
       "    </tr>\n",
       "    <tr>\n",
       "      <th>2</th>\n",
       "      <td>1.020677</td>\n",
       "      <td>1.544814</td>\n",
       "      <td>0.098054</td>\n",
       "      <td>0.0</td>\n",
       "      <td>1.0</td>\n",
       "    </tr>\n",
       "    <tr>\n",
       "      <th>3</th>\n",
       "      <td>-0.753219</td>\n",
       "      <td>0.160368</td>\n",
       "      <td>-0.605597</td>\n",
       "      <td>0.0</td>\n",
       "      <td>0.0</td>\n",
       "    </tr>\n",
       "    <tr>\n",
       "      <th>4</th>\n",
       "      <td>-1.406651</td>\n",
       "      <td>-0.456355</td>\n",
       "      <td>0.709838</td>\n",
       "      <td>0.0</td>\n",
       "      <td>0.0</td>\n",
       "    </tr>\n",
       "    <tr>\n",
       "      <th>...</th>\n",
       "      <td>...</td>\n",
       "      <td>...</td>\n",
       "      <td>...</td>\n",
       "      <td>...</td>\n",
       "      <td>...</td>\n",
       "    </tr>\n",
       "    <tr>\n",
       "      <th>3995</th>\n",
       "      <td>-1.196839</td>\n",
       "      <td>0.721462</td>\n",
       "      <td>0.018995</td>\n",
       "      <td>0.0</td>\n",
       "      <td>1.0</td>\n",
       "    </tr>\n",
       "    <tr>\n",
       "      <th>3996</th>\n",
       "      <td>0.114695</td>\n",
       "      <td>0.701784</td>\n",
       "      <td>0.119879</td>\n",
       "      <td>0.0</td>\n",
       "      <td>0.0</td>\n",
       "    </tr>\n",
       "    <tr>\n",
       "      <th>3997</th>\n",
       "      <td>1.059506</td>\n",
       "      <td>-0.320350</td>\n",
       "      <td>0.072273</td>\n",
       "      <td>0.0</td>\n",
       "      <td>0.0</td>\n",
       "    </tr>\n",
       "    <tr>\n",
       "      <th>3998</th>\n",
       "      <td>-0.798861</td>\n",
       "      <td>0.437583</td>\n",
       "      <td>-0.378546</td>\n",
       "      <td>0.0</td>\n",
       "      <td>1.0</td>\n",
       "    </tr>\n",
       "    <tr>\n",
       "      <th>3999</th>\n",
       "      <td>0.042362</td>\n",
       "      <td>-0.884278</td>\n",
       "      <td>-0.815175</td>\n",
       "      <td>1.0</td>\n",
       "      <td>0.0</td>\n",
       "    </tr>\n",
       "  </tbody>\n",
       "</table>\n",
       "<p>4000 rows × 5 columns</p>\n",
       "</div>"
      ],
      "text/plain": [
       "             0         1         2  used_pin_number  online_order\n",
       "0     0.067700 -1.183245  1.258607              0.0           1.0\n",
       "1    -0.077564 -0.630054  0.450340              0.0           0.0\n",
       "2     1.020677  1.544814  0.098054              0.0           1.0\n",
       "3    -0.753219  0.160368 -0.605597              0.0           0.0\n",
       "4    -1.406651 -0.456355  0.709838              0.0           0.0\n",
       "...        ...       ...       ...              ...           ...\n",
       "3995 -1.196839  0.721462  0.018995              0.0           1.0\n",
       "3996  0.114695  0.701784  0.119879              0.0           0.0\n",
       "3997  1.059506 -0.320350  0.072273              0.0           0.0\n",
       "3998 -0.798861  0.437583 -0.378546              0.0           1.0\n",
       "3999  0.042362 -0.884278 -0.815175              1.0           0.0\n",
       "\n",
       "[4000 rows x 5 columns]"
      ]
     },
     "execution_count": 226,
     "metadata": {},
     "output_type": "execute_result"
    }
   ],
   "source": [
    "x_train = X_train_q_pca.copy()\n",
    "x_train[categorical_features_chosen] = X_train[categorical_features_chosen]\n",
    "x_train"
   ]
  },
  {
   "cell_type": "code",
   "execution_count": 227,
   "metadata": {},
   "outputs": [
    {
     "data": {
      "text/html": [
       "<div>\n",
       "<style scoped>\n",
       "    .dataframe tbody tr th:only-of-type {\n",
       "        vertical-align: middle;\n",
       "    }\n",
       "\n",
       "    .dataframe tbody tr th {\n",
       "        vertical-align: top;\n",
       "    }\n",
       "\n",
       "    .dataframe thead th {\n",
       "        text-align: right;\n",
       "    }\n",
       "</style>\n",
       "<table border=\"1\" class=\"dataframe\">\n",
       "  <thead>\n",
       "    <tr style=\"text-align: right;\">\n",
       "      <th></th>\n",
       "      <th>0</th>\n",
       "      <th>1</th>\n",
       "      <th>2</th>\n",
       "      <th>used_pin_number</th>\n",
       "      <th>online_order</th>\n",
       "    </tr>\n",
       "  </thead>\n",
       "  <tbody>\n",
       "    <tr>\n",
       "      <th>0</th>\n",
       "      <td>-1.501688</td>\n",
       "      <td>-0.172674</td>\n",
       "      <td>-1.447012</td>\n",
       "      <td>0.0</td>\n",
       "      <td>1.0</td>\n",
       "    </tr>\n",
       "    <tr>\n",
       "      <th>1</th>\n",
       "      <td>-0.176226</td>\n",
       "      <td>0.074580</td>\n",
       "      <td>-1.105621</td>\n",
       "      <td>0.0</td>\n",
       "      <td>1.0</td>\n",
       "    </tr>\n",
       "    <tr>\n",
       "      <th>2</th>\n",
       "      <td>0.213100</td>\n",
       "      <td>1.388879</td>\n",
       "      <td>-0.049930</td>\n",
       "      <td>0.0</td>\n",
       "      <td>0.0</td>\n",
       "    </tr>\n",
       "    <tr>\n",
       "      <th>3</th>\n",
       "      <td>0.461416</td>\n",
       "      <td>1.744968</td>\n",
       "      <td>-0.705160</td>\n",
       "      <td>0.0</td>\n",
       "      <td>0.0</td>\n",
       "    </tr>\n",
       "    <tr>\n",
       "      <th>4</th>\n",
       "      <td>0.637631</td>\n",
       "      <td>0.379626</td>\n",
       "      <td>0.663222</td>\n",
       "      <td>0.0</td>\n",
       "      <td>1.0</td>\n",
       "    </tr>\n",
       "    <tr>\n",
       "      <th>...</th>\n",
       "      <td>...</td>\n",
       "      <td>...</td>\n",
       "      <td>...</td>\n",
       "      <td>...</td>\n",
       "      <td>...</td>\n",
       "    </tr>\n",
       "    <tr>\n",
       "      <th>995</th>\n",
       "      <td>-0.955147</td>\n",
       "      <td>-1.050252</td>\n",
       "      <td>0.517385</td>\n",
       "      <td>0.0</td>\n",
       "      <td>1.0</td>\n",
       "    </tr>\n",
       "    <tr>\n",
       "      <th>996</th>\n",
       "      <td>-0.693107</td>\n",
       "      <td>-1.489857</td>\n",
       "      <td>-1.169292</td>\n",
       "      <td>0.0</td>\n",
       "      <td>1.0</td>\n",
       "    </tr>\n",
       "    <tr>\n",
       "      <th>997</th>\n",
       "      <td>0.697218</td>\n",
       "      <td>0.567814</td>\n",
       "      <td>0.896157</td>\n",
       "      <td>0.0</td>\n",
       "      <td>0.0</td>\n",
       "    </tr>\n",
       "    <tr>\n",
       "      <th>998</th>\n",
       "      <td>0.263967</td>\n",
       "      <td>-0.232058</td>\n",
       "      <td>-0.076814</td>\n",
       "      <td>0.0</td>\n",
       "      <td>0.0</td>\n",
       "    </tr>\n",
       "    <tr>\n",
       "      <th>999</th>\n",
       "      <td>1.987677</td>\n",
       "      <td>0.411011</td>\n",
       "      <td>0.251692</td>\n",
       "      <td>0.0</td>\n",
       "      <td>0.0</td>\n",
       "    </tr>\n",
       "  </tbody>\n",
       "</table>\n",
       "<p>1000 rows × 5 columns</p>\n",
       "</div>"
      ],
      "text/plain": [
       "            0         1         2  used_pin_number  online_order\n",
       "0   -1.501688 -0.172674 -1.447012              0.0           1.0\n",
       "1   -0.176226  0.074580 -1.105621              0.0           1.0\n",
       "2    0.213100  1.388879 -0.049930              0.0           0.0\n",
       "3    0.461416  1.744968 -0.705160              0.0           0.0\n",
       "4    0.637631  0.379626  0.663222              0.0           1.0\n",
       "..        ...       ...       ...              ...           ...\n",
       "995 -0.955147 -1.050252  0.517385              0.0           1.0\n",
       "996 -0.693107 -1.489857 -1.169292              0.0           1.0\n",
       "997  0.697218  0.567814  0.896157              0.0           0.0\n",
       "998  0.263967 -0.232058 -0.076814              0.0           0.0\n",
       "999  1.987677  0.411011  0.251692              0.0           0.0\n",
       "\n",
       "[1000 rows x 5 columns]"
      ]
     },
     "execution_count": 227,
     "metadata": {},
     "output_type": "execute_result"
    }
   ],
   "source": [
    "x_test = X_test_q_pca.copy()\n",
    "x_test[categorical_features_chosen] = X_test[categorical_features_chosen]\n",
    "x_test"
   ]
  },
  {
   "cell_type": "code",
   "execution_count": 236,
   "metadata": {},
   "outputs": [],
   "source": [
    "cols = list(x_train.columns)\n",
    "columns = {}\n",
    "for col in cols:\n",
    "    if(type(col) == type(0)):\n",
    "        columns[col] = \"PCA\" + str(col)\n",
    "\n",
    "x_train = x_train.rename(columns = columns)\n",
    "x_test = x_test.rename(columns = columns)"
   ]
  },
  {
   "cell_type": "markdown",
   "metadata": {},
   "source": [
    "# Model Selection and Hyperparameter Tuning\n",
    "\n",
    "We choose a classic classifier(Logistic Regression), a lazy learning algorithm(KNN) and a boosting algorithm(XGBoost) as candidates.\n",
    "\n",
    "After holding out a validation set, we conduct hyperparameter tuning with grid search or randomized search to get best parameters.\n",
    "\n",
    "Then with K-fold cross validation we select a model with best performance among them."
   ]
  },
  {
   "cell_type": "markdown",
   "metadata": {},
   "source": [
    "### Logistic Regression Hyperparameter Tuning with K-fold Cross Validation"
   ]
  },
  {
   "cell_type": "code",
   "execution_count": 244,
   "metadata": {},
   "outputs": [
    {
     "name": "stdout",
     "output_type": "stream",
     "text": [
      "0.849\n",
      "{'C': 10, 'penalty': 'l2'}\n"
     ]
    }
   ],
   "source": [
    "from sklearn.linear_model import LogisticRegression\n",
    "from sklearn.model_selection import GridSearchCV\n",
    "\n",
    "# useful parameters\n",
    "param_c = [0.001, 0.01, 0.1, 1, 10, 100]\n",
    "penalty = [\"l1\", \"l2\"]\n",
    "\n",
    "# set up param_grid\n",
    "param_grid = [{\n",
    "                \"C\": param_c,\n",
    "                \"penalty\": penalty\n",
    "}]\n",
    "\n",
    "# set up model\n",
    "lr = LogisticRegression(\n",
    "                        solver = 'lbfgs',\n",
    "                        max_iter = 1000,\n",
    "                        tol = 1e-5,\n",
    "                        random_state = 1\n",
    ")\n",
    "\n",
    "# GridSearch\n",
    "gs = GridSearchCV(\n",
    "                    estimator = lr,\n",
    "                    param_grid = param_grid,\n",
    "                    scoring = 'accuracy',\n",
    "                    refit = True,\n",
    "                    cv = 4,\n",
    "                    n_jobs = -1\n",
    ")\n",
    "\n",
    "gs = gs.fit(x_train, y_train)\n",
    "\n",
    "# check results\n",
    "print(gs.best_score_)\n",
    "print(gs.best_params_)"
   ]
  },
  {
   "cell_type": "code",
   "execution_count": 245,
   "metadata": {},
   "outputs": [
    {
     "name": "stdout",
     "output_type": "stream",
     "text": [
      "n_iter = [21]\n"
     ]
    },
    {
     "data": {
      "text/plain": [
       "0.854"
      ]
     },
     "execution_count": 245,
     "metadata": {},
     "output_type": "execute_result"
    }
   ],
   "source": [
    "# test the best model\n",
    "\n",
    "lr = LogisticRegression(\n",
    "                        C = 10,\n",
    "                        penalty = \"l2\",\n",
    "                        solver = 'lbfgs',\n",
    "                        max_iter = 1000,\n",
    "                        tol = 1e-5,\n",
    "                        random_state = 1\n",
    ")\n",
    "lr.fit(x_train, y_train)\n",
    "\n",
    "print(\"n_iter =\", lr.n_iter_)\n",
    "\n",
    "lr.score(x_test, y_test)"
   ]
  },
  {
   "cell_type": "markdown",
   "metadata": {},
   "source": [
    "### KNN Hyperparameter Tuning with K-fold Cross Validation"
   ]
  },
  {
   "cell_type": "code",
   "execution_count": 247,
   "metadata": {},
   "outputs": [
    {
     "name": "stdout",
     "output_type": "stream",
     "text": [
      "0.9609999999999999\n",
      "{'n_neighbors': 3, 'p': 2}\n"
     ]
    }
   ],
   "source": [
    "from sklearn.neighbors import KNeighborsClassifier\n",
    "\n",
    "# useful parameters\n",
    "param_n = range(1, 15)\n",
    "p = range(1, 4)\n",
    "\n",
    "# set up param_grid\n",
    "param_grid = [{\n",
    "                \"n_neighbors\": param_n,\n",
    "                \"p\": p\n",
    "}]\n",
    "\n",
    "# set up model\n",
    "knn = KNeighborsClassifier()\n",
    "\n",
    "# GridSearch\n",
    "gs = GridSearchCV(\n",
    "                    estimator = knn,\n",
    "                    param_grid = param_grid,\n",
    "                    scoring = 'accuracy',\n",
    "                    refit = True,\n",
    "                    cv = 4,\n",
    "                    n_jobs = -1\n",
    ")\n",
    "\n",
    "gs = gs.fit(x_train, y_train)\n",
    "\n",
    "# check results\n",
    "print(gs.best_score_)\n",
    "print(gs.best_params_)"
   ]
  },
  {
   "cell_type": "code",
   "execution_count": 248,
   "metadata": {},
   "outputs": [
    {
     "data": {
      "text/plain": [
       "0.97"
      ]
     },
     "execution_count": 248,
     "metadata": {},
     "output_type": "execute_result"
    }
   ],
   "source": [
    "knn = KNeighborsClassifier(\n",
    "                            n_neighbors = 3,\n",
    "                            p = 2,\n",
    "                            n_jobs = -1\n",
    "                        )\n",
    "\n",
    "knn.fit(x_train, y_train)\n",
    "\n",
    "knn.score(x_test, y_test)"
   ]
  },
  {
   "cell_type": "markdown",
   "metadata": {},
   "source": [
    "### XGBoost Hyperparameter Tuning with K-fold Cross Validation"
   ]
  },
  {
   "cell_type": "code",
   "execution_count": 253,
   "metadata": {},
   "outputs": [
    {
     "name": "stdout",
     "output_type": "stream",
     "text": [
      "0.9652499999999999\n",
      "{'learning_rate': 0.1, 'max_depth': 5, 'n_estimators': 200}\n"
     ]
    }
   ],
   "source": [
    "from xgboost import XGBClassifier\n",
    "\n",
    "param_grid = {\n",
    "    'max_depth': [4, 5, 6, 7],\n",
    "    'n_estimators': [100, 150, 200, 250],\n",
    "    'learning_rate': [0.05, 0.1, 0.15, 0.2]\n",
    "}\n",
    "\n",
    "xgb = XGBClassifier()\n",
    "\n",
    "gs = GridSearchCV(\n",
    "                    estimator = xgb,\n",
    "                    param_grid = param_grid,\n",
    "                    scoring = 'accuracy',\n",
    "                    refit = True,\n",
    "                    cv = 4,\n",
    "                    n_jobs = -1\n",
    ")\n",
    "\n",
    "gs = gs.fit(x_train, y_train)\n",
    "\n",
    "# check results\n",
    "print(gs.best_score_)\n",
    "print(gs.best_params_)"
   ]
  },
  {
   "cell_type": "code",
   "execution_count": 254,
   "metadata": {},
   "outputs": [
    {
     "data": {
      "text/plain": [
       "0.966"
      ]
     },
     "execution_count": 254,
     "metadata": {},
     "output_type": "execute_result"
    }
   ],
   "source": [
    "xgb = XGBClassifier(\n",
    "    learning_rate = 0.1,\n",
    "    max_depth = 5,\n",
    "    n_estimators = 200\n",
    ")\n",
    "\n",
    "xgb.fit(x_train, y_train)\n",
    "\n",
    "xgb.score(x_test, y_test)"
   ]
  },
  {
   "cell_type": "markdown",
   "metadata": {},
   "source": [
    "### F1 Score\n",
    "\n",
    "We could clearly see from the data above, XGBoost and KNN shows similar accuracy. As the computing cost of KNN could grow faster than XGB, and we have a large dataset, we would prefer XGB model.\n",
    "\n",
    "Calculate F1 score to double check the performance of XGB model."
   ]
  },
  {
   "cell_type": "code",
   "execution_count": 257,
   "metadata": {},
   "outputs": [
    {
     "name": "stdout",
     "output_type": "stream",
     "text": [
      "KNN:\n",
      "0.9705882352941176\n",
      "XGB:\n",
      "0.966403162055336\n"
     ]
    }
   ],
   "source": [
    "from sklearn.metrics import f1_score\n",
    "\n",
    "print(\"KNN:\")\n",
    "\n",
    "y_pred = knn.predict(x_test)\n",
    "print(f1_score(y_test, y_pred))\n",
    "\n",
    "print(\"XGB:\")\n",
    "\n",
    "y_pred = xgb.predict(x_test)\n",
    "print(f1_score(y_test, y_pred))\n"
   ]
  },
  {
   "cell_type": "markdown",
   "metadata": {},
   "source": [
    "# Final Model"
   ]
  },
  {
   "cell_type": "code",
   "execution_count": 260,
   "metadata": {},
   "outputs": [],
   "source": [
    "x = pd.concat([x_train, x_test])\n",
    "y = pd.concat([y_train, y_test])"
   ]
  },
  {
   "cell_type": "code",
   "execution_count": 262,
   "metadata": {},
   "outputs": [
    {
     "name": "stdout",
     "output_type": "stream",
     "text": [
      "[0.14966905 0.07215682 0.25485036 0.17492558 0.34839824]\n"
     ]
    }
   ],
   "source": [
    "xgb = XGBClassifier(\n",
    "    learning_rate = 0.1,\n",
    "    max_depth = 5,\n",
    "    n_estimators = 200\n",
    ")\n",
    "\n",
    "xgb.fit(x, y)\n",
    "\n",
    "print(xgb.feature_importances_)"
   ]
  }
 ],
 "metadata": {
  "kernelspec": {
   "display_name": "Python 3",
   "language": "python",
   "name": "python3"
  },
  "language_info": {
   "codemirror_mode": {
    "name": "ipython",
    "version": 3
   },
   "file_extension": ".py",
   "mimetype": "text/x-python",
   "name": "python",
   "nbconvert_exporter": "python",
   "pygments_lexer": "ipython3",
   "version": "3.10.11"
  }
 },
 "nbformat": 4,
 "nbformat_minor": 2
}
